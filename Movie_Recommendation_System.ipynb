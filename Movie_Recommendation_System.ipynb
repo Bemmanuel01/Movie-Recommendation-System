{
  "nbformat": 4,
  "nbformat_minor": 0,
  "metadata": {
    "colab": {
      "provenance": [],
      "authorship_tag": "ABX9TyMeFYSplctMlJX8mxROQ2da",
      "include_colab_link": true
    },
    "kernelspec": {
      "name": "python3",
      "display_name": "Python 3"
    },
    "language_info": {
      "name": "python"
    }
  },
  "cells": [
    {
      "cell_type": "markdown",
      "metadata": {
        "id": "view-in-github",
        "colab_type": "text"
      },
      "source": [
        "<a href=\"https://colab.research.google.com/github/Bemmanuel01/Movie-Recommendation-System/blob/main/Movie_Recommendation_System.ipynb\" target=\"_parent\"><img src=\"https://colab.research.google.com/assets/colab-badge.svg\" alt=\"Open In Colab\"/></a>"
      ]
    },
    {
      "cell_type": "markdown",
      "source": [
        "Project: Movie Recommendation System USine Consine Similarity\n",
        "\n",
        "Goal: To recommend movies based on how similar they are."
      ],
      "metadata": {
        "id": "Cv4IvHXNJbix"
      }
    },
    {
      "cell_type": "markdown",
      "source": [
        "Import Necessary Dependencies"
      ],
      "metadata": {
        "id": "NfhkBSr7KGj1"
      }
    },
    {
      "cell_type": "code",
      "execution_count": null,
      "metadata": {
        "id": "XDnC9vYIJUmg"
      },
      "outputs": [],
      "source": [
        "import pandas as pd\n",
        "from sklearn.metrics.pairwise import cosine_similarity\n",
        "from sklearn.feature_extraction.text import TfidfVectorizer\n"
      ]
    },
    {
      "cell_type": "markdown",
      "source": [
        "Reading the Dataset"
      ],
      "metadata": {
        "id": "BCSj1jEtKiBb"
      }
    },
    {
      "cell_type": "code",
      "source": [
        "data = {'movie_id': [1, 2, 3, 4, 5],\n",
        "        'title': ['The Matrix', 'John Wick', 'The God Father', 'Pulp Fiction', 'The Dark Knight'],\n",
        "        'genre': ['Action, Sci-fi', 'Action, Thriller', 'Crime, Drama','Action, Drama', 'Action, Crime, Drama']\n",
        "        }\n"
      ],
      "metadata": {
        "id": "bEHVksKVKE1u"
      },
      "execution_count": null,
      "outputs": []
    },
    {
      "cell_type": "markdown",
      "source": [
        "Convert the data into a dataframe"
      ],
      "metadata": {
        "id": "0_mRz9JiLq2K"
      }
    },
    {
      "cell_type": "code",
      "source": [
        "df = pd.DataFrame(data)"
      ],
      "metadata": {
        "id": "J8lhU4vfLpXa"
      },
      "execution_count": null,
      "outputs": []
    },
    {
      "cell_type": "code",
      "source": [
        "print('Movies Distribution:')\n",
        "print(df)"
      ],
      "metadata": {
        "colab": {
          "base_uri": "https://localhost:8080/"
        },
        "id": "BoqfTix4MNeo",
        "outputId": "2790a519-552d-4ba5-8447-b9475052db39"
      },
      "execution_count": null,
      "outputs": [
        {
          "output_type": "stream",
          "name": "stdout",
          "text": [
            "Movies Distribution:\n",
            "   movie_id            title                 genre\n",
            "0         1       The Matrix        Action, Sci-fi\n",
            "1         2        John Wick      Action, Thriller\n",
            "2         3   The God Father          Crime, Drama\n",
            "3         4     Pulp Fiction         Action, Drama\n",
            "4         5  The Dark Knight  Action, Crime, Drama\n"
          ]
        }
      ]
    },
    {
      "cell_type": "markdown",
      "source": [
        "Define a TFIDF Vectorizer to transform the genre text into vectors"
      ],
      "metadata": {
        "id": "tXmQQXMVM3CF"
      }
    },
    {
      "cell_type": "code",
      "source": [
        "tfidf = TfidfVectorizer(stop_words= 'english')"
      ],
      "metadata": {
        "id": "LlNmgesAMXpA"
      },
      "execution_count": null,
      "outputs": []
    },
    {
      "cell_type": "markdown",
      "source": [
        "Fit and transform the genre column inot a matrix of TF-IDF features"
      ],
      "metadata": {
        "id": "re_DFRk3NbdV"
      }
    },
    {
      "cell_type": "code",
      "source": [
        "tfidf_matrix = tfidf.fit_transform(df['genre'])"
      ],
      "metadata": {
        "id": "JKoA3AJhNJ9W"
      },
      "execution_count": null,
      "outputs": []
    },
    {
      "cell_type": "markdown",
      "source": [
        "Compute the Cosine Similarity"
      ],
      "metadata": {
        "id": "alXRY-BROE5s"
      }
    },
    {
      "cell_type": "code",
      "source": [
        "cosine_sim = cosine_similarity(tfidf_matrix, tfidf_matrix)"
      ],
      "metadata": {
        "id": "gdi6bqlfNl7k"
      },
      "execution_count": null,
      "outputs": []
    },
    {
      "cell_type": "markdown",
      "source": [
        "Function top recommend movies based on cosine similarity"
      ],
      "metadata": {
        "id": "BBp9uKIVODMb"
      }
    },
    {
      "cell_type": "code",
      "source": [
        "def get_recommendations(title, cosine_sim = cosine_sim):\n",
        "  #Get the index of the movie that matches the title\n",
        "  idx = df[df['title']== title].index[0]\n",
        "  # Get the pairwise similarity scores of all movies with that movies.\n",
        "  sim_scores = list(enumerate(cosine_sim[idx]))\n",
        "  #Sort the movies based on the similarity scores\n",
        "  sim_scores = sorted(sim_scores, key = lambda x:x[1], reverse = True)\n",
        "  sim_scores = sim_scores[1:3]\n",
        "\n",
        "  # Get the movie indices\n",
        "  movie_indices = [i[0] for i in sim_scores]\n",
        "\n",
        "  #Return the title of the most similar movies\n",
        "  return df['title'].iloc[movie_indices]"
      ],
      "metadata": {
        "id": "j_JOwC0pOgNm"
      },
      "execution_count": null,
      "outputs": []
    },
    {
      "cell_type": "markdown",
      "source": [
        "Test the recommendation system"
      ],
      "metadata": {
        "id": "QVgwZ82IQbJx"
      }
    },
    {
      "cell_type": "code",
      "source": [
        "movie_title = input('Enter movie title: ')\n",
        "recommended_movies = get_recommendations(movie_title)\n",
        "print(f\"Movie Recommended For '{movie_title}': \")\n",
        "for movie in recommended_movies:\n",
        "  print(movie)"
      ],
      "metadata": {
        "colab": {
          "base_uri": "https://localhost:8080/"
        },
        "id": "dqCqz1LuQYpF",
        "outputId": "a3e694bc-27dd-446e-b6db-af4f01f6b508"
      },
      "execution_count": null,
      "outputs": [
        {
          "output_type": "stream",
          "name": "stdout",
          "text": [
            "Enter movie title: The God Father\n",
            "Movie Recommended For 'The God Father': \n",
            "The Dark Knight\n",
            "Pulp Fiction\n"
          ]
        }
      ]
    },
    {
      "cell_type": "code",
      "source": [],
      "metadata": {
        "id": "kFV5jy_nTka3"
      },
      "execution_count": null,
      "outputs": []
    }
  ]
}